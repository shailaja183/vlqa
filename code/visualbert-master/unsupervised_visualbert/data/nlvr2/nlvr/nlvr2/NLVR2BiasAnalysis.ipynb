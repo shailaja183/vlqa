{
 "cells": [
  {
   "cell_type": "markdown",
   "metadata": {},
   "source": [
    "# NLVR2 Visual Bias Analysis\n",
    "**[Alane Suhr](http://alanesuhr.com/) and [Yoav Artzi](https://yoavartzi.com), Cornell University**"
   ]
  },
  {
   "cell_type": "markdown",
   "metadata": {},
   "source": [
    "[NLVR2](http://lil.nlp.cornell.edu/nlvr/) (Suhr et al. 2019) was designed to be robust for language bias through a data collection process that resulted in each natural language sentence appearing with both true and false labels. The process did not provide a similar measure of control for visual bias. This note analyzes the potential for visual bias in NLVR2. We show that some amount of visual bias likely exists. Finally, we identify a subset of the test data that allows to test for model performance in a way that is robust to such potential biases. We show that the performance of existing models (Li et al. 2019; Tan and Bansal 2019) is relatively robust to this potential bias. We propose to add the evaluation on this subset of the data to the NLVR2 evaluation protocol, and update the official release to include it. This note incldues the code required to replicate the analysis to encourage further analysis of the data. "
   ]
  },
  {
   "cell_type": "code",
   "execution_count": 1,
   "metadata": {},
   "outputs": [],
   "source": [
    "import io\n",
    "import json\n",
    "import math\n",
    "import matplotlib.pyplot as plt\n",
    "import numpy as np\n",
    "from collections import defaultdict, Counter, namedtuple\n",
    "from IPython.display import Image\n",
    "from IPython.core.display import HTML \n",
    "from prettytable import PrettyTable"
   ]
  },
  {
   "cell_type": "code",
   "execution_count": 2,
   "metadata": {},
   "outputs": [],
   "source": [
    "train_data = list(map(json.loads, open('train.json').readlines()))\n",
    "dev_data = list(map(json.loads, open('dev.json').readlines()))"
   ]
  },
  {
   "cell_type": "markdown",
   "metadata": {},
   "source": [
    "## Introduction"
   ]
  },
  {
   "cell_type": "markdown",
   "metadata": {},
   "source": [
    "NLVR (Suhr et al. 2017) proposes a simple binary classification task: given an image and a natural language statement, predict if the statement is `true` or `false` with regard to the image. The images in NLVR are syntehtically generated, and the language was collected through a crowdsourcing process. The image generation and data collection process was designed to generate data robust to single-modality biases. Each statement is paired with multiple images, some pairings have the label `true`, while others are `false`. The images were generated so for each image that is in an example with the label `true`, there is an image with exactly the same set of objects but arranged differently in an example with the same sentence, but with the label `false`. Below are four examples from NLVR, all using the same statement. "
   ]
  },
  {
   "cell_type": "code",
   "execution_count": 3,
   "metadata": {},
   "outputs": [
    {
     "name": "stdout",
     "output_type": "stream",
     "text": [
      "There is a yellow block as the top of a tower with exactly three blocks.\n"
     ]
    },
    {
     "data": {
      "text/html": [
       "<img src=\"https://raw.githubusercontent.com/clic-lab/nlvr/master/nlvr/dev/images/5/dev-3520-1-0.png\" width=\"400\"/>"
      ],
      "text/plain": [
       "<IPython.core.display.Image object>"
      ]
     },
     "metadata": {},
     "output_type": "display_data"
    },
    {
     "name": "stdout",
     "output_type": "stream",
     "text": [
      "True\n"
     ]
    },
    {
     "data": {
      "text/html": [
       "<img src=\"https://raw.githubusercontent.com/clic-lab/nlvr/master/nlvr/dev/images/5/dev-3520-2-1.png\" width=\"400\"/>"
      ],
      "text/plain": [
       "<IPython.core.display.Image object>"
      ]
     },
     "metadata": {},
     "output_type": "display_data"
    },
    {
     "name": "stdout",
     "output_type": "stream",
     "text": [
      "False\n"
     ]
    },
    {
     "data": {
      "text/html": [
       "<img src=\"https://raw.githubusercontent.com/clic-lab/nlvr/master/nlvr/dev/images/5/dev-3520-0-2.png\" width=\"400\"/>"
      ],
      "text/plain": [
       "<IPython.core.display.Image object>"
      ]
     },
     "metadata": {},
     "output_type": "display_data"
    },
    {
     "name": "stdout",
     "output_type": "stream",
     "text": [
      "True\n"
     ]
    },
    {
     "data": {
      "text/html": [
       "<img src=\"https://raw.githubusercontent.com/clic-lab/nlvr/master/nlvr/dev/images/5/dev-3520-3-2.png\" width=\"400\"/>"
      ],
      "text/plain": [
       "<IPython.core.display.Image object>"
      ]
     },
     "metadata": {},
     "output_type": "display_data"
    },
    {
     "name": "stdout",
     "output_type": "stream",
     "text": [
      "False\n"
     ]
    }
   ],
   "source": [
    "print(\"There is a yellow block as the top of a tower with exactly three blocks.\")\n",
    "\n",
    "display(Image(url=\"https://raw.githubusercontent.com/clic-lab/nlvr/master/nlvr/dev/images/5/dev-3520-1-0.png\", width=400))\n",
    "print(\"True\")\n",
    "\n",
    "display(Image(url=\"https://raw.githubusercontent.com/clic-lab/nlvr/master/nlvr/dev/images/5/dev-3520-2-1.png\", width=400))\n",
    "print(\"False\")\n",
    "\n",
    "display(Image(url=\"https://raw.githubusercontent.com/clic-lab/nlvr/master/nlvr/dev/images/5/dev-3520-0-2.png\", width=400))\n",
    "print(\"True\")\n",
    "\n",
    "display(Image(url=\"https://raw.githubusercontent.com/clic-lab/nlvr/master/nlvr/dev/images/5/dev-3520-3-2.png\", width=400))\n",
    "print(\"False\")\n"
   ]
  },
  {
   "cell_type": "markdown",
   "metadata": {},
   "source": [
    "NLVR2 is a similar binary classification task. Given two paired images and a natural language statement, the goal is to decide if the statement is `true` or `false` with the regard to the pair of images. The NLVR2 data collection process included creating a new set of web images and a compare and contrast sentence-writing task, which enabled collecting semantically diverse natural language. \n",
    "\n",
    "**Overview of the Data Collection Process** The data collection process is split into: (a) collecting sets of image pairs, (b) setntence writing, and (c) validation. In the first step, sets of eight related images are collected and randomly split into four pairs. Each set of four pairs is given to a worker. They were asked to select two pairs, and write a sentence that is `true` for the selected pairs and `false` for the other pairs. Finally, workers are presented with an image pair and a statement to validate the label assigned by the sentence writer. This leads to pruning a small part of the data, so not all statements appear exactly four times (i.e., with the four orignal image pairs). Below is an example statement from NLVR2 that is paired with four image pairs, two with a label of `true` and two with `false`.  "
   ]
  },
  {
   "cell_type": "code",
   "execution_count": 4,
   "metadata": {},
   "outputs": [
    {
     "name": "stdout",
     "output_type": "stream",
     "text": [
      "One image shows exactly two brown acorns in back-to-back caps on green foliage.\n",
      "\n",
      "train-9952-0-1\n"
     ]
    },
    {
     "data": {
      "text/html": [
       "<img src=\"https://raw.githubusercontent.com/lil-lab/nlvr/master/nlvr2/ipynb_data/pair_0.png\" width=\"400\"/>"
      ],
      "text/plain": [
       "<IPython.core.display.Image object>"
      ]
     },
     "metadata": {},
     "output_type": "display_data"
    },
    {
     "name": "stdout",
     "output_type": "stream",
     "text": [
      "True\n",
      "\n",
      "train-9952-1-1\n"
     ]
    },
    {
     "data": {
      "text/html": [
       "<img src=\"https://raw.githubusercontent.com/lil-lab/nlvr/master/nlvr2/ipynb_data/pair_1.png\" width=\"400\"/>"
      ],
      "text/plain": [
       "<IPython.core.display.Image object>"
      ]
     },
     "metadata": {},
     "output_type": "display_data"
    },
    {
     "name": "stdout",
     "output_type": "stream",
     "text": [
      "False\n",
      "\n",
      "train-9952-2-1\n"
     ]
    },
    {
     "data": {
      "text/html": [
       "<img src=\"https://raw.githubusercontent.com/lil-lab/nlvr/master/nlvr2/ipynb_data/pair_2.png\" width=\"400\"/>"
      ],
      "text/plain": [
       "<IPython.core.display.Image object>"
      ]
     },
     "metadata": {},
     "output_type": "display_data"
    },
    {
     "name": "stdout",
     "output_type": "stream",
     "text": [
      "True\n",
      "\n",
      "train-9952-3-1\n"
     ]
    },
    {
     "data": {
      "text/html": [
       "<img src=\"https://raw.githubusercontent.com/lil-lab/nlvr/master/nlvr2/ipynb_data/pair_3.png\" width=\"400\"/>"
      ],
      "text/plain": [
       "<IPython.core.display.Image object>"
      ]
     },
     "metadata": {},
     "output_type": "display_data"
    },
    {
     "name": "stdout",
     "output_type": "stream",
     "text": [
      "False\n",
      "\n"
     ]
    }
   ],
   "source": [
    "acorn_id = \"train-9952\"\n",
    "acorn_examples = list()\n",
    "for example in train_data:\n",
    "    if example[\"identifier\"].startswith(acorn_id) and example[\"identifier\"][-1] == '1':\n",
    "        acorn_examples.append(example)\n",
    "\n",
    "print(acorn_examples[0][\"sentence\"] + \"\\n\")\n",
    "\n",
    "for i, example in enumerate(sorted(acorn_examples, key = lambda x: x[\"identifier\"])):\n",
    "    print(example[\"identifier\"])\n",
    "    image = Image(url=\"https://raw.githubusercontent.com/lil-lab/nlvr/master/nlvr2/ipynb_data/pair_%d.png\" % i, width=400)\n",
    "    display(image)\n",
    "    print(example[\"label\"] + \"\\n\")"
   ]
  },
  {
   "cell_type": "markdown",
   "metadata": {},
   "source": [
    "## Bias in NLVR2"
   ]
  },
  {
   "cell_type": "markdown",
   "metadata": {},
   "source": [
    "**Robustness to Language Bias** Each sentence is written to be `true` for two pairs of images and `false` for two pairs. This way, each sentence appears with multiple image pairs with different labels (unless some were pruned in validation). This provides robustness against languasge biases (i.e., some sentences are more likely to be `true` or `false` depending on the langauge)."
   ]
  },
  {
   "cell_type": "markdown",
   "metadata": {},
   "source": [
    "**Why would visual bias occur?** It is possible that some image pairs are more likely to be picked so that the sentence written for them has the label `true` and some are more likely to elicit the label `false` based on the visual content alone. This can lead to models that use this bias to solve the task while ignoring the natural language statement. This may happen because it was left to the workers to pick which pairs to label as `true` and `false`. This was done to the workers to make the task easier. Suhr et al. 2019 note that forcing the label assignment creates a much harder task of what is already a challenging annotation task. "
   ]
  },
  {
   "cell_type": "markdown",
   "metadata": {},
   "source": [
    "**How can we measure visual bias?** During the annotation process, pairs of images are often annotated multiple times, and appear in the data with different sentences. The majority of such cases is because each set of pairs was annotated twice to obtain more natural language data with the available of sets of image pairs. However, a small number of pairs were annotated even more times because they appeared in multiple sets (i.e., set of four pairs). This happened by chance, and relatively rarely. "
   ]
  },
  {
   "cell_type": "code",
   "execution_count": 5,
   "metadata": {
    "scrolled": true
   },
   "outputs": [
    {
     "data": {
      "image/png": "[encoded data removed]",
      "text/plain": [
       "<Figure size 432x288 with 1 Axes>"
      ]
     },
     "metadata": {
      "needs_background": "light"
     },
     "output_type": "display_data"
    }
   ],
   "source": [
    "pair_labels = dict()\n",
    "for x in train_data:\n",
    "    pair = x['left_url'], x['right_url']\n",
    "    if pair not in pair_labels:\n",
    "        pair_labels[pair] = list()\n",
    "    pair_labels[pair].append((x['identifier'], x['label']))\n",
    "    \n",
    "plt.hist([len(val) for val in pair_labels.values()], bins=12, log=True)\n",
    "plt.title('Histogram of unique image pair frequencies')\n",
    "plt.show()"
   ]
  },
  {
   "cell_type": "markdown",
   "metadata": {},
   "source": [
    "As expected, the majority of pairs that appear multiple times appear twice. This is because each set of image pairs was annotated with a natural language sentence twice. If labels are assigned randomly by the sentence writers, we would expect about half of these pairs to have exactly the same label in both instances (`true`/`true` or `false`/`false`)."
   ]
  },
  {
   "cell_type": "code",
   "execution_count": 6,
   "metadata": {},
   "outputs": [
    {
     "name": "stdout",
     "output_type": "stream",
     "text": [
      "There are 33866 pairs that occur twice, so we expect roughly 16933.0 pairs to have the same label in both instances.\n"
     ]
    }
   ],
   "source": [
    "num_pairs_occurring_twice = len([pair for pair, labels in pair_labels.items() if len(labels) == 2])\n",
    "print('There are {} pairs that occur twice, so we expect roughly {} pairs to have the same label in both instances.'.format(num_pairs_occurring_twice, \n",
    "                                                                                                                            num_pairs_occurring_twice / 2))"
   ]
  },
  {
   "cell_type": "markdown",
   "metadata": {},
   "source": [
    "However, the observed frequency of pairs with the same label is higher:"
   ]
  },
  {
   "cell_type": "code",
   "execution_count": 7,
   "metadata": {},
   "outputs": [
    {
     "data": {
      "text/plain": [
       "21267"
      ]
     },
     "execution_count": 7,
     "metadata": {},
     "output_type": "execute_result"
    }
   ],
   "source": [
    "len([pair for pair, labels in pair_labels.items() if len(labels) == 2 and len(set([item[1] for item in labels])) == 1])"
   ]
  },
  {
   "cell_type": "markdown",
   "metadata": {},
   "source": [
    "The pairs that occur twice likely appeared along with the same images during sentence-writing. Workers were prompted to write a sentence true about the selected pairs and false about the unselected pairs, and therefore are likely to prefer to select the two pairs that are more similar to each other within the set of four pairs. This could explain a bias towards a certain label for that pair. One explanation of this observation is that the bias exists when considering each image pair in the context of the other pairs it appeared with in sentence-writing. When taken out of this context, as in the NLVR2 task, this bias may become irrelelvant. "
   ]
  },
  {
   "cell_type": "markdown",
   "metadata": {},
   "source": [
    "Pairs that occur more than twice in the data are more interesting. Consider an event that is less likely: pairs that occur three times with the same label. The probability for a pair to have the same label (`true`/`true`/`true` or `false`/`false`/`false`) is 0.25."
   ]
  },
  {
   "cell_type": "code",
   "execution_count": 8,
   "metadata": {
    "scrolled": false
   },
   "outputs": [
    {
     "name": "stdout",
     "output_type": "stream",
     "text": [
      "There are 345 image pairs that appear three times in the data.\n",
      "We expect 43.125 of these pairs to have the same label in all instances.\n",
      "We observe empirically that 128 of these pairs have exactly the same label across all instances.\n"
     ]
    }
   ],
   "source": [
    "num_pairs_occurring_thrice = len([pair for pair, labels in pair_labels.items() if len(labels) == 3])\n",
    "print('There are {} image pairs that appear three times in the data.'.format(num_pairs_occurring_thrice))\n",
    "print('We expect {} of these pairs to have the same label in all instances.'.format(num_pairs_occurring_thrice / 8))\n",
    "print('We observe empirically that {} of these pairs have exactly the same label across all instances.'.format(len([pair for pair, labels in pair_labels.items() if len(labels) == 3 and len(set([item[1] for item in labels])) == 1])))"
   ]
  },
  {
   "cell_type": "markdown",
   "metadata": {},
   "source": [
    "We can generalize this analysis to all observed pair frequencies in the training data:"
   ]
  },
  {
   "cell_type": "code",
   "execution_count": 9,
   "metadata": {
    "scrolled": true
   },
   "outputs": [
    {
     "name": "stdout",
     "output_type": "stream",
     "text": [
      "+----------------+---------+-----------------+---------------------+-----------------+--------------------------+\n",
      "| Pair frequency | # pairs | Expected # same | Expected prop. same | Observed # same | Proportion observed same |\n",
      "+----------------+---------+-----------------+---------------------+-----------------+--------------------------+\n",
      "|       2        |  33866  |     16933.00    |        50.00        |      21267      |          62.80           |\n",
      "|       3        |   345   |      86.25      |        25.00        |       128       |          37.10           |\n",
      "|       4        |   377   |      47.12      |        12.50        |       103       |          27.32           |\n",
      "|       5        |    28   |       1.75      |         6.25        |        5        |          17.86           |\n",
      "|       6        |    9    |       0.28      |         3.12        |        1        |          11.11           |\n",
      "|       7        |    4    |       0.06      |         1.56        |        0        |           0.00           |\n",
      "|       8        |    4    |       0.03      |         0.78        |        0        |           0.00           |\n",
      "|       10       |    2    |       0.00      |         0.20        |        0        |           0.00           |\n",
      "+----------------+---------+-----------------+---------------------+-----------------+--------------------------+\n"
     ]
    }
   ],
   "source": [
    "freq_tab = PrettyTable()\n",
    "\n",
    "freq_tab.field_names = ['Pair frequency', '# pairs', 'Expected # same', 'Expected prop. same', 'Observed # same', 'Proportion observed same']\n",
    "\n",
    "for i in range(2, max([len(labels) for labels in pair_labels.values()])):\n",
    "    num_occurring_i = len([pair for pair, labels in pair_labels.items() if len(labels) == i])\n",
    "    if num_occurring_i > 0:\n",
    "        expected_prop_same = 2 / math.pow(2, i)\n",
    "        expected_same = num_occurring_i * expected_prop_same\n",
    "        observed_same = len([pair for pair, labels in pair_labels.items() if len(labels) == i and len(set([item[1] for item in labels])) == 1])\n",
    "        freq_tab.add_row([i, \n",
    "                          num_occurring_i, \n",
    "                          '{0:.2f}'.format(expected_same), \n",
    "                          '{0:.2f}'.format(100. * expected_prop_same), \n",
    "                          observed_same, \n",
    "                          '{0:.2f}'.format(100. * observed_same / num_occurring_i)])\n",
    "print(freq_tab)"
   ]
  },
  {
   "cell_type": "markdown",
   "metadata": {},
   "source": [
    "We see that identical labeling appears at a proportion (proportion observed same) much more than expected if assuming labeling events are independent (expected prop. same). Below we show a few examples of pairs that appear many times with the same label, along with the label they were given and the sentences they are paired with:"
   ]
  },
  {
   "cell_type": "code",
   "execution_count": 10,
   "metadata": {},
   "outputs": [
    {
     "data": {
      "text/html": [
       "<img src=\"https://raw.githubusercontent.com/lil-lab/nlvr/master/nlvr2/ipynb_data/pairex0.png\" width=\"400\"/>"
      ],
      "text/plain": [
       "<IPython.core.display.Image object>"
      ]
     },
     "metadata": {},
     "output_type": "display_data"
    },
    {
     "data": {
      "text/html": [
       "<img src=\"https://raw.githubusercontent.com/lil-lab/nlvr/master/nlvr2/ipynb_data/pairex1.png\" width=\"400\"/>"
      ],
      "text/plain": [
       "<IPython.core.display.Image object>"
      ]
     },
     "metadata": {},
     "output_type": "display_data"
    },
    {
     "data": {
      "text/html": [
       "<img src=\"https://raw.githubusercontent.com/lil-lab/nlvr/master/nlvr2/ipynb_data/pairex2.png\" width=\"400\"/>"
      ],
      "text/plain": [
       "<IPython.core.display.Image object>"
      ]
     },
     "metadata": {},
     "output_type": "display_data"
    },
    {
     "data": {
      "text/html": [
       "<img src=\"https://raw.githubusercontent.com/lil-lab/nlvr/master/nlvr2/ipynb_data/pairex3.png\" width=\"400\"/>"
      ],
      "text/plain": [
       "<IPython.core.display.Image object>"
      ]
     },
     "metadata": {},
     "output_type": "display_data"
    },
    {
     "data": {
      "text/html": [
       "<img src=\"https://raw.githubusercontent.com/lil-lab/nlvr/master/nlvr2/ipynb_data/pairex4.png\" width=\"400\"/>"
      ],
      "text/plain": [
       "<IPython.core.display.Image object>"
      ]
     },
     "metadata": {},
     "output_type": "display_data"
    }
   ],
   "source": [
    "for i in range(5):\n",
    "    image = Image(url=\"https://raw.githubusercontent.com/lil-lab/nlvr/master/nlvr2/ipynb_data/pairex%d.png\" % i, width=400)\n",
    "    display(image)"
   ]
  },
  {
   "cell_type": "markdown",
   "metadata": {},
   "source": [
    "**What does that mean for performance?** If the bias is real, we can try to compute what would a model that perfectly learns the bias but ignores the langauge will perform. This is a worst case scenario, and assumes we can perfectly learn the bias on the evaluation set. We assume that for all image pairs in the evaluation set, the model outputs the majority label for this pair for all examples including this pair. For image pairs that appear once, the model outputs the gold label. If a pair appears twice with the label `true`, the model outputs `true` for both examples. If a pair appears in three examples with `true`, `false`, and `true`, the model outputs `true`, and gets two out of the three right. We break ties with `true`, which is the majority class in the data. We compute this on the development set. "
   ]
  },
  {
   "cell_type": "code",
   "execution_count": 11,
   "metadata": {},
   "outputs": [
    {
     "name": "stdout",
     "output_type": "stream",
     "text": [
      "Labeled 6982 examples\n",
      "Accuracy: 83.53%\n"
     ]
    }
   ],
   "source": [
    "pair_labels = dict()\n",
    "for x in dev_data:\n",
    "    pair = x['left_url'], x['right_url']\n",
    "    if pair not in pair_labels:\n",
    "        pair_labels[pair] = list()\n",
    "    pair_labels[pair].append((x['identifier'], x['label']))\n",
    "    \n",
    "predictions = dict()\n",
    "for pair, labels in pair_labels.items():\n",
    "    num_true = len([label for label in labels if label[1].lower() == 'true'])\n",
    "    num_false = len(labels) - num_true\n",
    "    \n",
    "    label = 'true' if num_true >= num_false else 'false'\n",
    "    \n",
    "    for identifier, true_label in labels:\n",
    "        predictions[identifier] = label\n",
    "\n",
    "print('Labeled %d examples' % len(predictions))\n",
    "\n",
    "# Compute the accuracy\n",
    "correct = list()\n",
    "for example in dev_data:\n",
    "    correct.append(predictions[example[\"identifier\"]].lower() == example[\"label\"].lower())\n",
    "\n",
    "print('Accuracy: ' + '{0:.2f}'.format(100. * np.mean(np.array(correct))) + '%')\n",
    "    "
   ]
  },
  {
   "cell_type": "markdown",
   "metadata": {},
   "source": [
    "## New Evaluation Protocol"
   ]
  },
  {
   "cell_type": "markdown",
   "metadata": {},
   "source": [
    "**Can we find a way to evaluate the data that is robust to this visual bias?** We can isolate the part of the evaluation set that is clearly not susceptible to visual bias and test on it. If models perform on it as well as they do on the general evaluation set, they are not taking advantage of the bias. We identify all image pairs that appear in the evaluation data multiple times but with different labels (*balanced labels*). Because the evalaution sets are much smaller, the highest frequency of pairs is two. We create new evaluation sets where each image pair appears twice, once with the label `true` and once with `false`. The new sets are smaller, but still large enough to evaluate. We only report accuracy on this subset of the data because consistency changes due to the example selection process and we wish to avoid confusion with the consistency measures of the existing splits. Similarly, we evaluate on the subset of the data consisting of pairs that appear more than once with the same label (*unbalanced labels*)."
   ]
  },
  {
   "cell_type": "code",
   "execution_count": 12,
   "metadata": {},
   "outputs": [
    {
     "name": "stdout",
     "output_type": "stream",
     "text": [
      "Balanced examples: 2300 examples out of 6982\n",
      "Unbalanced examples: 3562 examples out of 6982\n"
     ]
    }
   ],
   "source": [
    "balanced_ids = list()\n",
    "unbalanced_ids = list()\n",
    "for urls, examples in pair_labels.items():\n",
    "    if len(examples) > 1:\n",
    "        if len(set([item[1] for item in examples])) > 1:\n",
    "            for item in examples:\n",
    "                balanced_ids.append(item)\n",
    "        else:\n",
    "            for item in examples:\n",
    "                unbalanced_ids.append(item)\n",
    "\n",
    "print('Balanced examples: ' + str(len(balanced_ids)) + ' examples out of ' + str(len(predictions)))\n",
    "print('Unbalanced examples: ' + str(len(unbalanced_ids)) + ' examples out of ' + str(len(predictions)))"
   ]
  },
  {
   "cell_type": "markdown",
   "metadata": {},
   "source": [
    "**Do SOTA models take advantage of the potential visual bias we identify?** The answer is mostly \"no\". We evaluate the models of Li et al. 2019 and Tan and Bansal 2019 using the subset of the evaluation data and show that they largely maintain their reported performance, although there is a small drop in performance on the balanced set and a small increase in performance on the unbalanced set. For each system, we report the accuracy on the complete split and the accuracy on the new subset of the split (`original split / balanced subset / unbalanced`). We also report in parenthesis the delta to the accuracy on the original evaluation set. "
   ]
  },
  {
   "cell_type": "markdown",
   "metadata": {},
   "source": [
    "| Split       \t| System              \t| Original \t| Balanced   \t| Unbalanced \t|\n",
    "|-------------\t|---------------------\t|----------\t|------------\t|------------\t|\n",
    "| Development \t| Li et al. 2019      \t| 67.4     \t| 66.0(-1.4) \t| 69.1(+1.7) \t|\n",
    "| Development \t| Tan and Bansal 2019 \t| 74.9     \t| 74.0(-0.9) \t| 76.4(+1.5) \t|\n",
    "| Test-P      \t| Li et al. 2019      \t| 67.0     \t| 65.7(-1.3) \t| 68.6(+1.6) \t|\n",
    "| Test-P      \t| Tan and Bansal 2019 \t| 74.5     \t| 73.1(-1.4) \t| 76.0(+1.5) \t|\n",
    "| Test-U      \t| Li et al. 2019      \t| 67.3     \t| 67.3(+0.0) \t| 68.2(+0.9) \t|\n",
    "| Test-U      \t| Tan and Bansal 2019 \t| 76.2     \t| 76.6(+0.4) \t| 76.5(+0.3) \t|"
   ]
  },
  {
   "cell_type": "markdown",
   "metadata": {},
   "source": [
    "## Conclusion"
   ]
  },
  {
   "cell_type": "markdown",
   "metadata": {},
   "source": [
    "We study the potential for visual bias in NLVR2, and show that allowing the workers to assign labels to image pairs may have introduced some level of visual bias. We quantify this potential bias, and calculate the best possible performance for a model relying on this bias. We also create new evaluation sets using subset of the original evaluation data. These new sets are robust to bias, and provide an avenue to test if models are taking advantage of latent bias. Our evaluation of existing SOTA models using the new evaluation sets shows that largely they do not take advantage of latent visual bias and confirm their impressive gains. \n",
    "\n",
    "The key takeaway is the addition of the new evaluation sets for NLVR2 evaluation. We add these evaluation sets to the NLVR2 data release. We also recommend evaluating exsiting models on the original NLVR corpus, which includes synthetic images, and was constructed to be robust to both visual and lingusitic biases. However, this may be challenging for models relying on pre-training using natural images. "
   ]
  },
  {
   "cell_type": "markdown",
   "metadata": {},
   "source": [
    "## References"
   ]
  },
  {
   "cell_type": "markdown",
   "metadata": {},
   "source": [
    "Liunian Harold Li, Mark Yatskar, Da Yin, Cho-Jui Hsieh, and Kai-Wei Chang. 2019. [VisualBERT: A simple and performant baseline for vision and language](https://arxiv.org/abs/1908.03557). *CoRR*, abs/1908.03557.\n",
    "\n",
    "Alane Suhr, Mike Lewis, James Yeh, and Yoav Artzi. 2017. [A corpus of natural language for visual reasoning](https://aclweb.org/anthology/P17-2034). In *Proceedings of the Annual Meeting of the Association for Computational Linguistics*, pages 217-223.\n",
    "\n",
    "Alane Suhr, Stephanie Zhou, Ally Zhang, Iris Zhang, Huajun Bai, and Yoav Artzi. 2019. [A corpus for reasoning about natural language grounded in photographs](https://www.aclweb.org/anthology/P19-1644). In *Proceedings of the Annual Meeting of the Association for Computational Linguistics*, pages 6418-6428.\n",
    "\n",
    "Hao Tan and Mohit Bansal. 2019. [LXMERT: Learning cross-modality encoder representations from transformers](https://arxiv.org/abs/1908.07490). In *Proceedings of the Conference on Empirical Methods in Natural Language Processing*."
   ]
  },
  {
   "cell_type": "markdown",
   "metadata": {},
   "source": [
    "## Acknowledgements"
   ]
  },
  {
   "cell_type": "markdown",
   "metadata": {},
   "source": [
    "We thank Hao Tan and Mark Yatskar for feedback on this note. "
   ]
  }
 ],
 "metadata": {
  "kernelspec": {
   "display_name": "Python 3",
   "language": "python",
   "name": "python3"
  },
  "language_info": {
   "codemirror_mode": {
    "name": "ipython",
    "version": 3
   },
   "file_extension": ".py",
   "mimetype": "text/x-python",
   "name": "python",
   "nbconvert_exporter": "python",
   "pygments_lexer": "ipython3",
   "version": "3.6.5"
  }
 },
 "nbformat": 4,
 "nbformat_minor": 2
}
